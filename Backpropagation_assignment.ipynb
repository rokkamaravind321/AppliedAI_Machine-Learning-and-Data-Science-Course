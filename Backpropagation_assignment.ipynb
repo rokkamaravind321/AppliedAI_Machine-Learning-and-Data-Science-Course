{
 "cells": [
  {
   "cell_type": "markdown",
   "metadata": {
    "id": "y871RZtRhCEH"
   },
   "source": [
    "# <font color='red'>BackPropagation</font>"
   ]
  },
  {
   "cell_type": "markdown",
   "metadata": {
    "id": "LqePYi-4mFvK"
   },
   "source": [
    "**There will be some functions that start with the word \"grader\" ex: grader_sigmoid(), grader_forwardprop(), grader_backprop() etc, you should not change those function definition.<br><br>Every Grader function has to return True.**"
   ]
  },
  {
   "cell_type": "markdown",
   "metadata": {
    "id": "0huUQ0byiI0I"
   },
   "source": [
    "## <font color='red'>Loading data </font>"
   ]
  },
  {
   "cell_type": "code",
   "execution_count": 1,
   "metadata": {
    "colab": {
     "base_uri": "https://localhost:8080/",
     "height": 50
    },
    "id": "1hSje5CBgcUb",
    "outputId": "66535fa5-f8a2-4792-bc62-7842c93480f7"
   },
   "outputs": [
    {
     "name": "stdout",
     "output_type": "stream",
     "text": [
      "(506, 6)\n",
      "(506, 5) (506,)\n"
     ]
    }
   ],
   "source": [
    "import pickle\n",
    "import numpy as np\n",
    "from tqdm import tqdm\n",
    "import matplotlib.pyplot as plt\n",
    "\n",
    "with open('data.pkl', 'rb') as f:\n",
    "    data = pickle.load(f)\n",
    "print(data.shape)\n",
    "X = data[:, :5]\n",
    "y = data[:, -1]\n",
    "print(X.shape, y.shape)"
   ]
  },
  {
   "cell_type": "markdown",
   "metadata": {
    "id": "5JL-0soQistC"
   },
   "source": [
    "# <font color='red'>Computational graph</font>"
   ]
  },
  {
   "cell_type": "markdown",
   "metadata": {
    "id": "nREnTTJ3i0Vd"
   },
   "source": [
    "<img src='https://i.imgur.com/seSGbNS.png'>"
   ]
  },
  {
   "cell_type": "markdown",
   "metadata": {
    "id": "DSPX_H_4i_HT"
   },
   "source": [
    "\n",
    "*  **If you observe the graph, we are having input features [f1, f2, f3, f4, f5] and 9 weights [w1, w2, w3, w4, w5, w6,    w7, w8, w9]**.<br><br>\n",
    "*  **The final output of this graph is a value L which is computed as (Y-Y')^2** "
   ]
  },
  {
   "cell_type": "markdown",
   "metadata": {
    "id": "D54eDEv6jkO4"
   },
   "source": [
    "# <font color='red'>Task 1: Implementing backpropagation and Gradient checking </font>"
   ]
  },
  {
   "cell_type": "markdown",
   "metadata": {
    "id": "qocI1Vzqkod9"
   },
   "source": [
    "<font color='blue'><b>Check this video for better understanding of the computational graphs and back propagation</font>"
   ]
  },
  {
   "cell_type": "code",
   "execution_count": 2,
   "metadata": {
    "colab": {
     "base_uri": "https://localhost:8080/",
     "height": 521
    },
    "id": "Wb5WMdwJinlX",
    "outputId": "b10489ec-890a-445a-c6a4-a3e0ea2a66be"
   },
   "outputs": [
    {
     "data": {
      "image/jpeg": "[encoded data removed]",
      "text/html": [
       "\n",
       "        <iframe\n",
       "            width=\"1000\"\n",
       "            height=\"500\"\n",
       "            src=\"https://www.youtube.com/embed/i94OvYb6noo\"\n",
       "            frameborder=\"0\"\n",
       "            allowfullscreen\n",
       "        ></iframe>\n",
       "        "
      ],
      "text/plain": [
       "<IPython.lib.display.YouTubeVideo at 0x7f4c48478610>"
      ]
     },
     "execution_count": 2,
     "metadata": {},
     "output_type": "execute_result"
    }
   ],
   "source": [
    "from IPython.display import YouTubeVideo\n",
    "YouTubeVideo('i94OvYb6noo',width=\"1000\",height=\"500\")"
   ]
  },
  {
   "cell_type": "markdown",
   "metadata": {
    "id": "STS4NrQQc6OH"
   },
   "source": [
    " ## <font color='red'>Gradient clipping</font>"
   ]
  },
  {
   "cell_type": "markdown",
   "metadata": {
    "id": "XY7ivRNzdPok"
   },
   "source": [
    "<b> Check this  <a href='https://towardsdatascience.com/how-to-debug-a-neural-network-with-gradient-checking-41deec0357a9'>blog link</a> for more details on Gradient clipping"
   ]
  },
  {
   "cell_type": "markdown",
   "metadata": {
    "id": "BrsfpDoidtZ5"
   },
   "source": [
    " we know that the derivative of any function is\n",
    " \n",
    " $$\\lim_{\\epsilon\\to0}\\frac{f(x+\\epsilon)-f(x-\\epsilon)}{2\\epsilon}$$\n"
   ]
  },
  {
   "cell_type": "markdown",
   "metadata": {
    "id": "vUcmt0kPd02f"
   },
   "source": [
    "*  The definition above can be used as a numerical approximation of the derivative. Taking an epsilon small enough, the calculated approximation will have an error in the range of epsilon squared. \n",
    "\n",
    "*  In other words, if epsilon is 0.001, the approximation will be off by 0.00001.\n",
    "\n",
    "Therefore, we can use this to approximate the gradient, and in turn make sure that backpropagation is implemented properly. This forms the basis of <b>gradient checking!</b>"
   ]
  },
  {
   "cell_type": "markdown",
   "metadata": {
    "id": "pFSu16KCeU0x"
   },
   "source": [
    "## <Font color='blue'>Gradient checking example</font>"
   ]
  },
  {
   "cell_type": "markdown",
   "metadata": {
    "id": "Gz0mmT_xecfC"
   },
   "source": [
    "<font >\n",
    "lets understand the concept with a simple example:\n",
    "$f(w1,w2,x1,x2)=w_{1}^{2} . x_{1} + w_{2} . x_{2}$ \n",
    "\n",
    "from the above function , lets assume $w_{1}=1$, $w_{2}=2$, $x_{1}=3$, $x_{2}=4$ the gradient of $f$ w.r.t $w_{1}$ is\n",
    "\n",
    "\\begin{array} {lcl}\n",
    "\\frac{df}{dw_{1}} = dw_{1} &=&2.w_{1}.x_{1} \\\\& = &2.1.3\\\\& = &6\n",
    "\\end{array}\n",
    "\n",
    "\n",
    "let calculate the aproximate gradient of $w_{1}$ as mentinoned in the above formula and considering $\\epsilon=0.0001$\n",
    "\n",
    "\\begin{array} {lcl}\n",
    "dw_1^{approx} & = & \\frac{f(w1+\\epsilon,w2,x1,x2)-f(w1-\\epsilon,w2,x1,x2)}{2\\epsilon} \\\\ & = & \\frac{((1+0.0001)^{2} . 3 + 2 . 4) - ((1-0.0001)^{2} . 3 + 2 . 4)}{2\\epsilon} \\\\ & = & \\frac{(1.00020001 . 3 + 2 . 4) - (0.99980001. 3 + 2 . 4)}{2*0.0001} \\\\ & = & \\frac{(11.00060003) - (10.99940003)}{0.0002}\\\\ & = & 5.99999999999\n",
    "\\end{array}\n",
    "\n",
    "Then, we apply the following formula for gradient check: <i>gradient_check</i> = \n",
    "$\\frac{\\left\\Vert\\left (dW-dW^{approx}\\rm\\right) \\right\\Vert_2}{\\left\\Vert\\left (dW\\rm\\right) \\right\\Vert_2+\\left\\Vert\\left (dW^{approx}\\rm\\right) \\right\\Vert_2}$\n",
    "\n",
    "The equation above is basically the Euclidean distance normalized by the sum of the norm of the vectors. We use normalization in case that one of the vectors is very small.\n",
    "As a value for epsilon, we usually opt for 1e-7. Therefore, if gradient check return a value less than 1e-7, then it means that backpropagation was implemented correctly. Otherwise, there is potentially a mistake in your implementation. If the value exceeds 1e-3, then you are sure that the code is not correct.\n",
    "\n",
    "in our example: <i>gradient_check</i> $ = \\frac{(6 - 5.999999999994898)}{(6 + 5.999999999994898)} = 4.2514140356330737e^{-13}$\n",
    "\n",
    "you can mathamatically derive the same thing like this\n",
    "\n",
    "\\begin{array} {lcl}\n",
    "dw_1^{approx} & = & \\frac{f(w1+\\epsilon,w2,x1,x2)-f(w1-\\epsilon,w2,x1,x2)}{2\\epsilon} \\\\ & = & \\frac{((w_{1}+\\epsilon)^{2} . x_{1} + w_{2} . x_{2}) - ((w_{1}-\\epsilon)^{2} . x_{1} + w_{2} . x_{2})}{2\\epsilon} \\\\ & = & \\frac{4. \\epsilon.w_{1}. x_{1}}{2\\epsilon} \\\\ & = &  2.w_{1}.x_{1}\n",
    "\\end{array}\n"
   ]
  },
  {
   "cell_type": "markdown",
   "metadata": {
    "id": "f1BFQQaCermK"
   },
   "source": [
    "## <font color='red'> Implement Gradient checking </font> <br>\n",
    " (Write your code in <font color='blue'> def gradient_checking()</font>)"
   ]
  },
  {
   "cell_type": "markdown",
   "metadata": {
    "id": "GqpfA3AqfJba"
   },
   "source": [
    "**Algorithm** \n",
    "\n"
   ]
  },
  {
   "cell_type": "markdown",
   "metadata": {
    "id": "0ufbFBFfhgL0"
   },
   "source": [
    "# <font color='red'> Task 2 : Optimizers </font>"
   ]
  },
  {
   "cell_type": "markdown",
   "metadata": {
    "id": "7zt05soYh1RM"
   },
   "source": [
    "* As a part of this task, you will be implementing 3 type of optimizers(methods to update weight)\n",
    "* Use the same computational graph that was mentioned above to do this task\n",
    "* Initilze the 9 weights from normal distribution with mean=0 and std=0.01"
   ]
  },
  {
   "cell_type": "markdown",
   "metadata": {
    "id": "CAyi7aSAicbr"
   },
   "source": [
    "**Check below video and <a href='https://cs231n.github.io/neural-networks-3/'>this</a> blog**"
   ]
  },
  {
   "cell_type": "code",
   "execution_count": 3,
   "metadata": {
    "colab": {
     "base_uri": "https://localhost:8080/",
     "height": 521
    },
    "id": "ZogcxiegkQpz",
    "outputId": "9b4e0235-e638-4f20-d9c1-ac3ca4fb3ce8"
   },
   "outputs": [
    {
     "data": {
      "image/jpeg": "[encoded data removed]",
      "text/html": [
       "\n",
       "        <iframe\n",
       "            width=\"1000\"\n",
       "            height=\"500\"\n",
       "            src=\"https://www.youtube.com/embed/gYpoJMlgyXA\"\n",
       "            frameborder=\"0\"\n",
       "            allowfullscreen\n",
       "        ></iframe>\n",
       "        "
      ],
      "text/plain": [
       "<IPython.lib.display.YouTubeVideo at 0x7f4c217cfe10>"
      ]
     },
     "execution_count": 3,
     "metadata": {},
     "output_type": "execute_result"
    }
   ],
   "source": [
    "from IPython.display import YouTubeVideo\n",
    "YouTubeVideo('gYpoJMlgyXA',width=\"1000\",height=\"500\")"
   ]
  },
  {
   "cell_type": "markdown",
   "metadata": {
    "id": "jmefh7ktjbaR"
   },
   "source": [
    "<font color='blue'><b>Algorithm</b>"
   ]
  },
  {
   "cell_type": "markdown",
   "metadata": {
    "id": "nAc4NudkjdNa"
   },
   "source": [
    "<pre>\n",
    "    for each epoch(1-100):\n",
    "        for each data point in your data:\n",
    "            using the functions forward_propagation() and backword_propagation() compute the gradients of weights\n",
    "            update the weigts with help of gradients  ex: w1 = w1-learning_rate*dw1\n",
    "</pre>"
   ]
  },
  {
   "cell_type": "markdown",
   "metadata": {
    "id": "_fdmPNqtjm3X"
   },
   "source": [
    "## <font color='red'> Implement below tasks</b>"
   ]
  },
  {
   "cell_type": "markdown",
   "metadata": {
    "id": "Ll9-CRsLjx_D"
   },
   "source": [
    "\n",
    "*  <b>Task 2.1</b>: you will be implementing the above algorithm with <b>Vanilla update</b> of weights<br><br>\n",
    "*  <b>Task 2.2</b>: you will be implementing the above algorithm with <b>Momentum update</b> of weights<br><br>\n",
    "*  <b>Task 2.3</b>: you will be implementing the above algorithm with <b>Adam update</b> of weights\n"
   ]
  },
  {
   "cell_type": "markdown",
   "metadata": {
    "id": "atp082demrUR"
   },
   "source": [
    "**Note : If you get any assertion error while running grader functions, please print the variables in grader functions and check which variable is returning False .Recheck your logic for that variable .**"
   ]
  },
  {
   "cell_type": "markdown",
   "metadata": {
    "id": "2jecTyVRlh-6"
   },
   "source": [
    "\n",
    "*  <b>Write two functions<br>\n",
    "    *  Forward propagation</b>(Write your code in<font color='blue'> def forward_propagation()</b></font>)<br><br>\n",
    "    For easy debugging, we will break the computational graph into 3 parts.\n",
    "\n",
    "    <font color='green'><b>Part 1</b></font></b>\n",
    "    <img src='https://i.imgur.com/0xUaxy6.png'><br><br>\n",
    "    <font color='green'><b>Part 2</b></font></b><br>\n",
    "    <img src='https://i.imgur.com/J29pAJL.png'><br><br>\n",
    "    <font color='green'><b>Part 3</b></font></b>\n",
    "    <img src='https://i.imgur.com/vMyCsd9.png'>\n",
    "\n",
    "    <pre>\n",
    "    <font color='green'>\n",
    "def forward_propagation(X, y, W):\n",
    "        <font color='grey'>\n",
    "        # X: input data point, note that in this assignment you are having 5-d data points\n",
    "        # y: output varible\n",
    "        # W: weight array, its of length 9, W[0] corresponds to w1 in graph, W[1] corresponds to w2 in graph, <br>         ..., W[8] corresponds to w9 in graph.  \n",
    "        # you have to return the following variables\n",
    "        # exp= part1 (compute the forward propagation until exp and then store the values in exp)\n",
    "        # tanh =part2(compute the forward propagation until tanh and then store the values in tanh)\n",
    "        # sig = part3(compute the forward propagation until sigmoid and then store the values in sig)\n",
    "        # now compute remaining values from computional graph and get y'\n",
    "        # write code to compute the value of L=(y-y')^2\n",
    "        # compute derivative of L  w.r.to Y' and store it in dl\n",
    "        # Create a dictionary to store all the intermediate values\n",
    "        # store L, exp,tanh,sig,dl variables\n",
    "        </font>\n",
    "        return (dictionary, which you might need to use for back propagation)\n",
    "        <font color='grey'>\n",
    "        </font>\n",
    "</font>\n",
    "</pre>\n",
    "    *  <b>Backward propagation</b>(Write your code in<font color='blue'> def backward_propagation()</b></font>)\n",
    "    </b>\n",
    "    <pre>\n",
    "    <font color='green'>\n",
    "    def backward_propagation(L, W,dictionary):\n",
    "        <font color='grey'>\n",
    "        # L: the loss we calculated for the current point\n",
    "        # dictionary: the outputs of the forward_propagation() function\n",
    "        # write code to compute the gradients of each weight [w1,w2,w3,...,w9]\n",
    "        # Hint: you can use dict type to store the required variables \n",
    "        # return dW, dW is a dictionary with gradients of all the weights\n",
    "        </font>\n",
    "        return dW\n",
    "        </font>\n",
    "</font>\n",
    "</pre>"
   ]
  },
  {
   "cell_type": "markdown",
   "metadata": {
    "id": "phG2WDkjkuIL"
   },
   "source": [
    "<br>\n",
    "<br>\n",
    "<br>"
   ]
  },
  {
   "cell_type": "markdown",
   "metadata": {
    "id": "CBaPzHP63grG"
   },
   "source": [
    "# <font color='red'>Task 1 </font>"
   ]
  },
  {
   "cell_type": "markdown",
   "metadata": {
    "id": "QfmV3FUgSrBo"
   },
   "source": [
    "## <font color='blue'>Forward propagation </font>"
   ]
  },
  {
   "cell_type": "code",
   "execution_count": 4,
   "metadata": {
    "id": "5_pBivcY30qf"
   },
   "outputs": [],
   "source": [
    "def sigmoid(z):\n",
    "    '''In this function, we will compute the sigmoid(z)'''\n",
    "    \n",
    "    # we can use this function in forward and backward propagation\n",
    "\n",
    "    return 1/(1 + np.exp(-z)) \n",
    "    \n",
    "def forward_propagation(x, y, w):\n",
    "    \n",
    "    t1=w[0]*x[0]\n",
    "    t2=w[1]*x[1]\n",
    "    t3=t1+t2\n",
    "    t4=t3*t3\n",
    "        \n",
    "    t5=t4+w[5]\n",
    "    exp=np.exp(t5)\n",
    "    t7=exp+w[6]\n",
    "    tanh=np.tanh(t7)\n",
    "    \n",
    "    \n",
    "    t9=w[2]*x[2]\n",
    "    t10=np.sin(t9)\n",
    "    \n",
    "    t11=w[3]*x[3]\n",
    "    t12=w[4]*x[4]\n",
    "    t13=t11+t12\n",
    "    \n",
    "    t14=t13*t10\n",
    "    \n",
    "    t15=t14+w[7]\n",
    "    \n",
    "    sig=sigmoid(t15)\n",
    "    \n",
    "    t16=sig*w[8]\n",
    "    \n",
    "    y_hat= t16+tanh\n",
    "    \n",
    "    \n",
    "    L=np.square(y-y_hat)   \n",
    "    dl=-2*(y-y_hat)\n",
    "    \n",
    "    dic={\n",
    "        'exp':exp,\n",
    "        'sigmoid':sig,\n",
    "        'tanh':tanh,\n",
    "        'loss':L,\n",
    "        'dy_pr':dl,\n",
    "        'sin':t10,\n",
    "        'cos':np.cos(t9)\n",
    "        \n",
    "    }\n",
    "    \n",
    "    return dic\n"
   ]
  },
  {
   "cell_type": "markdown",
   "metadata": {
    "id": "z-z1rGKqCHNN"
   },
   "source": [
    "<font color='cyan'>Grader function - 1</font>"
   ]
  },
  {
   "cell_type": "code",
   "execution_count": 5,
   "metadata": {
    "id": "6ZxFF00zBmx1"
   },
   "outputs": [
    {
     "data": {
      "text/plain": [
       "True"
      ]
     },
     "execution_count": 5,
     "metadata": {},
     "output_type": "execute_result"
    }
   ],
   "source": [
    "def grader_sigmoid(z):\n",
    "  val=sigmoid(z)\n",
    "  assert(val==0.8807970779778823)\n",
    "  return True\n",
    "grader_sigmoid(2)"
   ]
  },
  {
   "cell_type": "code",
   "execution_count": 6,
   "metadata": {},
   "outputs": [
    {
     "data": {
      "text/plain": [
       "True"
      ]
     },
     "execution_count": 6,
     "metadata": {},
     "output_type": "execute_result"
    }
   ],
   "source": [
    "def grader_forwardprop(data):\n",
    "    dl = (data['dy_pr']==-1.9285278284819143)\n",
    "    loss=(data['loss']==0.9298048963072919)\n",
    "    part1=(data['exp']==1.1272967040973583)\n",
    "    part2=(data['tanh']==0.8417934192562146)\n",
    "    part3=(data['sigmoid']==0.5279179387419721)\n",
    "    assert(dl and loss and part1 and part2 and part3)\n",
    "    return True\n",
    "w=np.ones(9)*0.1\n",
    "d1=forward_propagation(X[0],y[0],w)\n",
    "grader_forwardprop(d1)"
   ]
  },
  {
   "cell_type": "code",
   "execution_count": 7,
   "metadata": {},
   "outputs": [
    {
     "name": "stdout",
     "output_type": "stream",
     "text": [
      "{'exp': 1.1272967040973583, 'sigmoid': 0.5279179387419721, 'tanh': 0.8417934192562146, 'loss': 0.9298048963072919, 'dy_pr': -1.9285278284819143, 'sin': -0.14538296400984968, 'cos': 0.9893754564247643}\n"
     ]
    }
   ],
   "source": [
    "print(d1)"
   ]
  },
  {
   "cell_type": "markdown",
   "metadata": {
    "id": "obOaAqj3Sxvb"
   },
   "source": [
    "## <font color='blue'>Backward propagation</font>"
   ]
  },
  {
   "cell_type": "code",
   "execution_count": 8,
   "metadata": {
    "id": "dS49ykcOGhIv"
   },
   "outputs": [],
   "source": [
    "def backward_propagation(L,W,dic):\n",
    "    '''In this function, we will compute the backward propagation '''\n",
    "    \n",
    "    dw1=dic['dy_pr']*(1-np.square(dic['tanh']))*dic['exp']*2*((W[0]*L[0]+W[1]*L[1])*L[0])\n",
    "    \n",
    "    dw2=dic['dy_pr']*(1-np.square(dic['tanh']))*dic['exp']*2*((W[1]*L[1]+W[0]*L[0])*L[1])\n",
    "\n",
    "    dw3=dic['dy_pr']*W[8]*dic['sigmoid']*(1-dic['sigmoid'])*(L[3]*W[3]+L[4]*W[4])*L[2]*dic['cos']\n",
    "    dw4=dic['dy_pr']*W[8]*dic['sigmoid']*(1-dic['sigmoid'])*L[3]*dic['sin']\n",
    "    dw5=dic['dy_pr']*W[8]*dic['sigmoid']*(1-dic['sigmoid'])*L[4]*dic['sin']\n",
    "    dw6=dic['dy_pr']*(1-np.square(dic['tanh']))*dic['exp']\n",
    "    dw7=dic['dy_pr']*(1-np.square(dic['tanh']))\n",
    "    dw8=dic['dy_pr']*W[8]*dic['sigmoid']*(1-dic['sigmoid'])\n",
    "    dw9=dic['sigmoid']*dic['dy_pr']\n",
    "    \n",
    "    dW={  \n",
    "    'dw1':dw1,\n",
    "    'dw2':dw2,\n",
    "    'dw3':dw3,\n",
    "    'dw4':dw4,\n",
    "    'dw5':dw5,\n",
    "    'dw6':dw6,\n",
    "    'dw7':dw7,\n",
    "    'dw8':dw8,\n",
    "    'dw9':dw9\n",
    "    }\n",
    "    \n",
    "    return dW\n",
    "    \n",
    "    \n",
    "    \n",
    "    \n",
    "    "
   ]
  },
  {
   "cell_type": "code",
   "execution_count": 9,
   "metadata": {},
   "outputs": [
    {
     "data": {
      "text/plain": [
       "True"
      ]
     },
     "execution_count": 9,
     "metadata": {},
     "output_type": "execute_result"
    }
   ],
   "source": [
    "def grader_backprop(data):\n",
    "    dw1=(data['dw1']==-0.22973323498702003)\n",
    "    dw2=(data['dw2']==-0.021407614717752925)\n",
    "    dw3=(data['dw3']==-0.005625405580266319)\n",
    "    dw4=(data['dw4']==-0.004657941222712423)\n",
    "    dw5=(data['dw5']==-0.0010077228498574246)\n",
    "    dw6=(data['dw6']==-0.6334751873437471)\n",
    "    dw7=(data['dw7']==-0.561941842854033)\n",
    "    dw8=(data['dw8']==-0.04806288407316516)\n",
    "    dw9=(data['dw9']==-1.0181044360187037)\n",
    "    assert(dw1 and dw2 and dw3 and dw4 and dw5 and dw6 and dw7 and dw8 and dw9)\n",
    "    return True \n",
    "w=np.ones(9)*0.1\n",
    "d1=forward_propagation(X[0],y[0],w)\n",
    "d1=backward_propagation(X[0],w,d1)\n",
    "\n",
    "grader_backprop(d1)"
   ]
  },
  {
   "cell_type": "markdown",
   "metadata": {
    "id": "1rfHHXZwgwo6"
   },
   "source": [
    "## <font color='blue'> Implement gradient checking</font>"
   ]
  },
  {
   "cell_type": "markdown",
   "metadata": {
    "id": "FL39KeRFfNoD"
   },
   "source": [
    "<pre>\n",
    "<font color='darkblue'>\n",
    "W = initilize_randomly\n",
    "def gradient_checking(data_point, W):<font color='grey'>\n",
    "    # compute the L value using forward_propagation()\n",
    "    # compute the gradients of W using backword_propagation()</font>\n",
    "    approx_gradients = []\n",
    "    for each wi weight value in W:<font color='grey'>\n",
    "        # add a small value to weight wi, and then find the values of L with the updated weights\n",
    "        # subtract a small value to weight wi, and then find the values of L with the updated weights\n",
    "        # compute the approximation gradients of weight wi</font>\n",
    "        approx_gradients.append(approximation gradients of weight wi)<font color='grey'>\n",
    "    # compare the gradient of weights W from backword_propagation() with the aproximation gradients of weights with <br>  gradient_check formula</font>\n",
    "    return gradient_check</font>\n",
    "<b>NOTE: you can do sanity check by checking all the return values of gradient_checking(),<br> they have to be zero. if not you have bug in your code\n",
    "</pre></b>"
   ]
  },
  {
   "cell_type": "code",
   "execution_count": 20,
   "metadata": {
    "id": "oh8wj1yjGhOi"
   },
   "outputs": [],
   "source": [
    "W = np.random.rand(9)\n",
    "eps=0.0001\n",
    "def gradient_checking(data_point, W):\n",
    "    d1=forward_propagation(data_point,y[0],W)\n",
    "    \n",
    "    grad=backward_propagation(data_point,W,d1)\n",
    "    grad=list(grad.values())\n",
    "    \n",
    "    \n",
    "    # compute the L value using forward_propagation()\n",
    "    # compute the gradients of W using backword_propagation()\n",
    "    approx_gradients = []\n",
    "    for i in range(len(W)):\n",
    "        \n",
    "        w_plus=W.copy()\n",
    "        w_plus[i]+=eps\n",
    "        L_plus=forward_propagation(data_point,y[0],w_plus)\n",
    "        grad_plus=backward_propagation(data_point,w_plus,L_plus)\n",
    "        L_plus=L_plus['loss']\n",
    "        \n",
    "        \n",
    "        w_minus=W.copy()\n",
    "        w_minus[i]-=eps\n",
    "        L_minus=forward_propagation(data_point,y[0],w_minus)\n",
    "        grad_minus=backward_propagation(data_point,w_minus,L_minus)\n",
    "        L_minus=L_minus['loss']\n",
    "        \n",
    "        approx_grad=(L_plus-L_minus)/(2*eps)\n",
    "        approx_gradients.append(approx_grad)\n",
    "        \n",
    "        \n",
    "    gradient_check=[]\n",
    "    for i in range(len(W)):\n",
    "        num = np.linalg.norm(grad[i] - approx_gradients[i] )\n",
    "        den = np.linalg.norm(grad[i]) + np.linalg.norm(approx_gradients[i])\n",
    "        diff = num / den\n",
    "        gradient_check.append(diff) \n",
    "        \n",
    "        \n",
    "        \n",
    "        \n",
    "        \n",
    "        # add a small value to weight wi, and then find the values of L with the updated weights\n",
    "        # subtract a small value to weight wi, and then find the values of L with the updated weights\n",
    "        # compute the approximation gradients of weight wi\n",
    "        #approx_gradients.append(approximation gradients of weight wi)\n",
    "    # compare the gradient of weights W from backword_propagation() with the aproximation gradients of weights with gradient_check formula\n",
    "    return gradient_check\n",
    "\n",
    "g=gradient_checking(X[0],W)"
   ]
  },
  {
   "cell_type": "code",
   "execution_count": 21,
   "metadata": {},
   "outputs": [
    {
     "data": {
      "text/plain": [
       "[1.446076278481714e-08,\n",
       " 1.2264881537525243e-10,\n",
       " 9.564345727570781e-11,\n",
       " 1.9892512093219975e-10,\n",
       " 7.8985457914592e-12,\n",
       " 1.2992058661307797e-09,\n",
       " 4.214611098858496e-09,\n",
       " 8.936748335692261e-10,\n",
       " 1.2188639210214776e-13]"
      ]
     },
     "execution_count": 21,
     "metadata": {},
     "output_type": "execute_result"
    }
   ],
   "source": [
    "g"
   ]
  },
  {
   "cell_type": "markdown",
   "metadata": {
    "id": "MhwDSe99kJ32"
   },
   "source": [
    "# <font color='red'>Task 2: Optimizers"
   ]
  },
  {
   "cell_type": "markdown",
   "metadata": {
    "id": "jJzI-vnPk1dB"
   },
   "source": [
    "###<font color='blue'>Algorithm with Vanilla update of weights</font>"
   ]
  },
  {
   "cell_type": "code",
   "execution_count": 12,
   "metadata": {},
   "outputs": [
    {
     "data": {
      "text/plain": [
       "[-0.001345358300390486,\n",
       " 0.013196112781944023,\n",
       " 0.0019041861049636545,\n",
       " -0.011440720702484709,\n",
       " 0.017669818548239284,\n",
       " 0.006658934006215388,\n",
       " 0.0068233799771498585,\n",
       " 0.00656258256147008,\n",
       " 0.017630243873985256]"
      ]
     },
     "execution_count": 12,
     "metadata": {},
     "output_type": "execute_result"
    }
   ],
   "source": [
    "w=list(np.random.normal(0.0, 0.01, 9))\n",
    "w"
   ]
  },
  {
   "cell_type": "code",
   "execution_count": 13,
   "metadata": {
    "id": "xJspU6ZuGhRQ"
   },
   "outputs": [],
   "source": [
    "vw=w\n",
    "Loss=[]\n",
    "for epoch in range(100):\n",
    "    \n",
    "    \n",
    "    for i,j in zip(X,y):\n",
    "        \n",
    "        d1=forward_propagation(i,j,vw)\n",
    "        loss=d1['loss']\n",
    "        \n",
    "        dw=backward_propagation(i,vw,d1)\n",
    "        \n",
    "        dw=list(dw.values())\n",
    "        dw=[i * 0.01 for i in dw]\n",
    "        vw=np.subtract(vw,dw)\n",
    "            \n",
    "    \n",
    "    Loss.append(loss)\n",
    "        \n",
    "    \n",
    "        \n",
    "        "
   ]
  },
  {
   "cell_type": "markdown",
   "metadata": {
    "id": "UlTLXrvmlR26"
   },
   "source": [
    "<font color='blue'>Plot between epochs and loss</font>"
   ]
  },
  {
   "cell_type": "code",
   "execution_count": 14,
   "metadata": {
    "id": "CjTCVUIoGhTo"
   },
   "outputs": [
    {
     "data": {
      "text/plain": [
       "Text(0, 0.5, 'Loss')"
      ]
     },
     "execution_count": 14,
     "metadata": {},
     "output_type": "execute_result"
    },
    {
     "data": {
      "image/png": "[encoded data removed]",
      "text/plain": [
       "<Figure size 432x288 with 1 Axes>"
      ]
     },
     "metadata": {
      "needs_background": "light"
     },
     "output_type": "display_data"
    }
   ],
   "source": [
    "import matplotlib.pyplot as plt\n",
    "epoch=list(range(1,101))\n",
    "plt.plot(epoch,Loss)\n",
    "plt.xlabel('Epoch')\n",
    "plt.ylabel('Loss')"
   ]
  },
  {
   "cell_type": "markdown",
   "metadata": {
    "id": "cv_hZFWalS2z"
   },
   "source": [
    "###<font color='blue'>Algorithm with Vanilla update of weights</font>"
   ]
  },
  {
   "cell_type": "code",
   "execution_count": 15,
   "metadata": {
    "id": "uucCdyQrGhZt"
   },
   "outputs": [],
   "source": [
    "mw=w\n",
    "v=list(np.zeros(9))\n",
    "Loss_momentum=[]\n",
    "for epoch in range(100):\n",
    "    \n",
    "    \n",
    "    for i,j in zip(X,y):\n",
    "        \n",
    "        \n",
    "        d1=forward_propagation(i,j,mw)\n",
    "        loss_momentum=d1['loss']\n",
    "        \n",
    "        dw=backward_propagation(i,mw,d1)\n",
    "        \n",
    "        dw=list(dw.values())\n",
    "        \n",
    "        for i in range(len(dw)):\n",
    "            dw[i]=v[i]=0.9*v[i]-0.01*dw[i]\n",
    "            \n",
    "        mw=np.add(mw,v)\n",
    "            \n",
    "    \n",
    "    Loss_momentum.append(loss_momentum)\n",
    "        \n",
    "    \n",
    "        \n",
    "        "
   ]
  },
  {
   "cell_type": "markdown",
   "metadata": {
    "id": "Ow20azfKlVhn"
   },
   "source": [
    "<font color='blue'>Plot between epochs and loss</font>"
   ]
  },
  {
   "cell_type": "code",
   "execution_count": 16,
   "metadata": {
    "id": "u-m90Sq_Ghce"
   },
   "outputs": [
    {
     "data": {
      "text/plain": [
       "Text(0, 0.5, 'Loss')"
      ]
     },
     "execution_count": 16,
     "metadata": {},
     "output_type": "execute_result"
    },
    {
     "data": {
      "image/png": "[encoded data removed]",
      "text/plain": [
       "<Figure size 432x288 with 1 Axes>"
      ]
     },
     "metadata": {
      "needs_background": "light"
     },
     "output_type": "display_data"
    }
   ],
   "source": [
    "epoch=list(range(1,101))\n",
    "plt.plot(epoch,Loss_momentum)\n",
    "plt.xlabel('Epoch')\n",
    "plt.ylabel('Loss')"
   ]
  },
  {
   "cell_type": "markdown",
   "metadata": {
    "id": "V4RWWrZ7lWap"
   },
   "source": [
    "###<font color='blue'>Algorithm with Vanilla update of weights</font>"
   ]
  },
  {
   "cell_type": "code",
   "execution_count": 33,
   "metadata": {
    "id": "72rRC8rJGhf5"
   },
   "outputs": [],
   "source": [
    "aw=w\n",
    "av=list(np.zeros(9))\n",
    "am=list(np.zeros(9))\n",
    "Loss_adam=[]\n",
    "for epoch in range(100):\n",
    "    \n",
    "    \n",
    "    for i,j in zip(X,y):\n",
    "        \n",
    "        \n",
    "        d1=forward_propagation(i,j,aw)\n",
    "        loss_adam=d1['loss']\n",
    "        \n",
    "        dw=backward_propagation(i,aw,d1)\n",
    "        \n",
    "        dw=list(dw.values())\n",
    "        \n",
    "        for i in range(len(dw)):\n",
    "            am[i] = 0.9*am[i] + (1-0.9)*dw[i]\n",
    "            av[i] = 0.999*av[i] + (1-0.999)*(dw[i]**2)\n",
    "            aw[i]+= - 0.1* am[i] / (np.sqrt(av[i]) + 1e-8)\n",
    "    \n",
    "    Loss_adam.append(loss_adam)\n",
    "        \n",
    "    \n",
    "        "
   ]
  },
  {
   "cell_type": "markdown",
   "metadata": {
    "id": "MMy0nBw-lXml"
   },
   "source": [
    "<font color='blue'>Plot between epochs and loss</font>"
   ]
  },
  {
   "cell_type": "code",
   "execution_count": 34,
   "metadata": {
    "id": "aiFRk_uFlm2V"
   },
   "outputs": [
    {
     "data": {
      "text/plain": [
       "Text(0, 0.5, 'Loss')"
      ]
     },
     "execution_count": 34,
     "metadata": {},
     "output_type": "execute_result"
    },
    {
     "data": {
      "image/png": "[encoded data removed]",
      "text/plain": [
       "<Figure size 432x288 with 1 Axes>"
      ]
     },
     "metadata": {
      "needs_background": "light"
     },
     "output_type": "display_data"
    }
   ],
   "source": [
    "epoch=list(range(1,101))\n",
    "plt.plot(epoch,Loss_adam)\n",
    "plt.xlabel('Epoch')\n",
    "plt.ylabel('Loss')\n"
   ]
  },
  {
   "cell_type": "markdown",
   "metadata": {
    "id": "7627cy8YlnYO"
   },
   "source": [
    "<font color='blue'>Comparision plot between epochs and loss with different optimizers</font>"
   ]
  },
  {
   "cell_type": "code",
   "execution_count": 35,
   "metadata": {
    "id": "scleSfIXl_bC"
   },
   "outputs": [
    {
     "data": {
      "image/png": "[encoded data removed]",
      "text/plain": [
       "<Figure size 432x288 with 1 Axes>"
      ]
     },
     "metadata": {
      "needs_background": "light"
     },
     "output_type": "display_data"
    }
   ],
   "source": [
    "plt.plot(epoch, Loss, 'r--')\n",
    "plt.plot(epoch,Loss_momentum, 'b--')\n",
    "plt.plot(epoch,Loss_adam, 'g--')\n",
    "plt.legend(['vanilla', 'momentun','adam'])\n",
    "plt.xlabel('Epoch')\n",
    "plt.ylabel('Loss')\n",
    "plt.show();"
   ]
  },
  {
   "cell_type": "code",
   "execution_count": null,
   "metadata": {
    "id": "lfXSaOP8rjBY"
   },
   "outputs": [],
   "source": []
  }
 ],
 "metadata": {
  "colab": {
   "collapsed_sections": [],
   "name": "Backpropagation_assignment.ipynb",
   "provenance": []
  },
  "kernelspec": {
   "display_name": "Python 3",
   "language": "python",
   "name": "python3"
  },
  "language_info": {
   "codemirror_mode": {
    "name": "ipython",
    "version": 3
   },
   "file_extension": ".py",
   "mimetype": "text/x-python",
   "name": "python",
   "nbconvert_exporter": "python",
   "pygments_lexer": "ipython3",
   "version": "3.7.5"
  }
 },
 "nbformat": 4,
 "nbformat_minor": 1
}
